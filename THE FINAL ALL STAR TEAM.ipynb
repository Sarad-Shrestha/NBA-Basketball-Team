{
 "cells": [
  {
   "cell_type": "markdown",
   "metadata": {},
   "source": [
    "# ALL STAR TEAM - WESTERN CONFERENCE"
   ]
  },
  {
   "cell_type": "markdown",
   "metadata": {},
   "source": [
    "# CENTER - Karl-Anthony Towns (Minnesota Timberwolves)"
   ]
  },
  {
   "cell_type": "markdown",
   "metadata": {},
   "source": [
    "![Karl-Anthony Towns](https://s.yimg.com/ny/api/res/1.2/k64s0Vd7DwqOwN2V0EKoag--/YXBwaWQ9aGlnaGxhbmRlcjtzbT0xO3c9ODAw/http://media.zenfs.com/en-GB/homerun/business_insider_uk_non_finance_744/89f953560a249d361d4b307bcabfcbba)"
   ]
  },
  {
   "cell_type": "markdown",
   "metadata": {},
   "source": [
    "# POWER FORWARD - Anthony Davis (New Orleans Pelicans)"
   ]
  },
  {
   "cell_type": "markdown",
   "metadata": {},
   "source": [
    "![Anthony Davis](https://s.yimg.com/ny/api/res/1.2/6GHdLibVPqfXtcpfIrUjEQ--/YXBwaWQ9aGlnaGxhbmRlcjtzbT0xO3c9ODAw/http://globalfinance.zenfs.com/en_us/Finance/US_AFTP_SILICONALLEY_H_LIVE/Anthony_Davis_Fixed_His_Biggest-754325f28e2c27c13712185dc2f8357c)"
   ]
  },
  {
   "cell_type": "markdown",
   "metadata": {},
   "source": [
    "# SHOOTING GUARD - CJ McCollum (Portland Trail Blazers)"
   ]
  },
  {
   "cell_type": "markdown",
   "metadata": {},
   "source": [
    "![CJ McCollum](https://arc-anglerfish-arc2-prod-guernseypress-mna.s3.amazonaws.com/public/QNYPQLJTCRAGPFWK64HIZZU2PM.jpg)"
   ]
  },
  {
   "cell_type": "markdown",
   "metadata": {},
   "source": [
    "# POINT GUARD - James Harden (Houston Rockets)"
   ]
  },
  {
   "cell_type": "markdown",
   "metadata": {},
   "source": [
    "![James Harden](https://static1.i4u.com/sites/default/files/imagecache/main_image_google_topstories4x3/images/2015/08/jamesharden.jpg)"
   ]
  },
  {
   "cell_type": "markdown",
   "metadata": {},
   "source": [
    "# SMALL FORWARD - Kevin Durant (Golden State Warriors)"
   ]
  },
  {
   "cell_type": "markdown",
   "metadata": {},
   "source": [
    "![Kevin Durant](https://fsmedia.imgix.net/8d/73/6e/e4/8038/47a9/898b/17b9aa219daf/golden-state-warriors-star-kevin-durant.jpeg?rect=187%2C0%2C2999%2C2249&fm=jpg&w=800)"
   ]
  },
  {
   "cell_type": "markdown",
   "metadata": {},
   "source": [
    "_____________________________________________________________________"
   ]
  },
  {
   "cell_type": "markdown",
   "metadata": {},
   "source": [
    "________________________________________________________________"
   ]
  },
  {
   "cell_type": "markdown",
   "metadata": {},
   "source": [
    "__________________________________________________________________________"
   ]
  },
  {
   "cell_type": "markdown",
   "metadata": {},
   "source": [
    "# ALL STAR TEAM - EASTERN CONFERENCE"
   ]
  },
  {
   "cell_type": "markdown",
   "metadata": {},
   "source": [
    "# CENTER - Dwight Howard (Charlotte Hornets)"
   ]
  },
  {
   "cell_type": "markdown",
   "metadata": {},
   "source": [
    "![Dwight Howard](https://static.businessinsider.com/image/4ffb1e84eab8ea9411000014/image.jpg)"
   ]
  },
  {
   "cell_type": "markdown",
   "metadata": {},
   "source": [
    "# POWER FORWARD - Giannis Antetokounmpo (Milwaukee Bucks)"
   ]
  },
  {
   "cell_type": "markdown",
   "metadata": {},
   "source": [
    "![Giannis Antetokounmpo](https://onmilwaukee.com/images/articles/bu/bucks-giannis-media-day-jokes/bucks-giannis-media-day-jokes_fullsize_story1.jpg?1525259158)"
   ]
  },
  {
   "cell_type": "markdown",
   "metadata": {},
   "source": [
    "# SHOOTING GUARD - DeMar DeRozan (Toronto Raptors)"
   ]
  },
  {
   "cell_type": "markdown",
   "metadata": {},
   "source": [
    "![DeMar DeRozan](https://thesportspost.com/wp-content/uploads/2017/07/why-demar-derozan-is-the-38th-best-player-in-the-nba-800x600.jpg)"
   ]
  },
  {
   "cell_type": "markdown",
   "metadata": {},
   "source": [
    "# POINT GUARD - Kemba Walker (Charlotte Hornets)"
   ]
  },
  {
   "cell_type": "markdown",
   "metadata": {},
   "source": [
    "![Kemba Walker](http://mediadb.kicker.de/news/1000/1020/36000/artikel02/1020092/walker-1521793405_zoom31_crop_800x600_800x600+8+69.jpg)"
   ]
  },
  {
   "cell_type": "markdown",
   "metadata": {},
   "source": [
    "# SMALL FORWARD - LeBron James (Cleveland Cavaliers)"
   ]
  },
  {
   "cell_type": "markdown",
   "metadata": {},
   "source": [
    "![LeBron James](https://cdn.ndtv.com/tech/images/gadgets/lebron_james_ndtv.jpg?output-quality=80)"
   ]
  }
 ],
 "metadata": {
  "kernelspec": {
   "display_name": "Python 3",
   "language": "python",
   "name": "python3"
  },
  "language_info": {
   "codemirror_mode": {
    "name": "ipython",
    "version": 3
   },
   "file_extension": ".py",
   "mimetype": "text/x-python",
   "name": "python",
   "nbconvert_exporter": "python",
   "pygments_lexer": "ipython3",
   "version": "3.6.3"
  }
 },
 "nbformat": 4,
 "nbformat_minor": 2
}
